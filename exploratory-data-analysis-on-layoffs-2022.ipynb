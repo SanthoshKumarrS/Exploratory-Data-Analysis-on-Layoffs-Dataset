{
 "cells": [
  {
   "cell_type": "markdown",
   "id": "e8b08202",
   "metadata": {
    "papermill": {
     "duration": 0.009948,
     "end_time": "2022-11-23T18:39:25.199663",
     "exception": false,
     "start_time": "2022-11-23T18:39:25.189715",
     "status": "completed"
    },
    "tags": []
   },
   "source": [
    "# Exploratory Data Analysis on Layoffs 2022: \n",
    "\n",
    "In this exploratory data analysis project we will insights from Layoffs 2022 dataset. We will gain incredible insights from their distribution and classifications."
   ]
  },
  {
   "cell_type": "markdown",
   "id": "03e7b6f9",
   "metadata": {
    "papermill": {
     "duration": 0.008649,
     "end_time": "2022-11-23T18:39:25.217859",
     "exception": false,
     "start_time": "2022-11-23T18:39:25.209210",
     "status": "completed"
    },
    "tags": []
   },
   "source": [
    "#### Importing Libraries for Data Analysis and Visualisation :"
   ]
  },
  {
   "cell_type": "code",
   "execution_count": 1,
   "id": "7f9ca350",
   "metadata": {
    "_cell_guid": "b1076dfc-b9ad-4769-8c92-a6c4dae69d19",
    "_uuid": "8f2839f25d086af736a60e9eeb907d3b93b6e0e5",
    "execution": {
     "iopub.execute_input": "2022-11-23T18:39:25.240466Z",
     "iopub.status.busy": "2022-11-23T18:39:25.239639Z",
     "iopub.status.idle": "2022-11-23T18:39:26.344997Z",
     "shell.execute_reply": "2022-11-23T18:39:26.343828Z"
    },
    "papermill": {
     "duration": 1.121225,
     "end_time": "2022-11-23T18:39:26.347975",
     "exception": false,
     "start_time": "2022-11-23T18:39:25.226750",
     "status": "completed"
    },
    "tags": []
   },
   "outputs": [
    {
     "name": "stdout",
     "output_type": "stream",
     "text": [
      "/kaggle/input/layoffs-2022/layoffs.csv\n"
     ]
    }
   ],
   "source": [
    "import numpy as np\n",
    "import pandas as pd\n",
    "import matplotlib.pyplot as plt\n",
    "import matplotlib \n",
    "import seaborn as sns\n",
    "import warnings\n",
    "%matplotlib inline\n",
    "\n",
    "import os\n",
    "for dirname, _, filenames in os.walk('/kaggle/input'):\n",
    "    for filename in filenames:\n",
    "        print(os.path.join(dirname, filename))\n",
    "\n",
    "# You can write up to 20GB to the current directory (/kaggle/working/) that gets preserved as output when you create a version using \"Save & Run All\" \n",
    "# You can also write temporary files to /kaggle/temp/, but they won't be saved outside of the current session"
   ]
  },
  {
   "cell_type": "markdown",
   "id": "30decb25",
   "metadata": {
    "papermill": {
     "duration": 0.009328,
     "end_time": "2022-11-23T18:39:26.366475",
     "exception": false,
     "start_time": "2022-11-23T18:39:26.357147",
     "status": "completed"
    },
    "tags": []
   },
   "source": [
    "## Data Preparation :"
   ]
  },
  {
   "cell_type": "code",
   "execution_count": 2,
   "id": "c5b38a47",
   "metadata": {
    "execution": {
     "iopub.execute_input": "2022-11-23T18:39:26.387410Z",
     "iopub.status.busy": "2022-11-23T18:39:26.386077Z",
     "iopub.status.idle": "2022-11-23T18:39:26.412773Z",
     "shell.execute_reply": "2022-11-23T18:39:26.411493Z"
    },
    "papermill": {
     "duration": 0.039668,
     "end_time": "2022-11-23T18:39:26.415352",
     "exception": false,
     "start_time": "2022-11-23T18:39:26.375684",
     "status": "completed"
    },
    "tags": []
   },
   "outputs": [],
   "source": [
    "df = pd.read_csv('/kaggle/input/layoffs-2022/layoffs.csv')"
   ]
  },
  {
   "cell_type": "code",
   "execution_count": 3,
   "id": "66d6fb52",
   "metadata": {
    "execution": {
     "iopub.execute_input": "2022-11-23T18:39:26.435729Z",
     "iopub.status.busy": "2022-11-23T18:39:26.435354Z",
     "iopub.status.idle": "2022-11-23T18:39:26.458938Z",
     "shell.execute_reply": "2022-11-23T18:39:26.457825Z"
    },
    "papermill": {
     "duration": 0.036406,
     "end_time": "2022-11-23T18:39:26.461073",
     "exception": false,
     "start_time": "2022-11-23T18:39:26.424667",
     "status": "completed"
    },
    "tags": []
   },
   "outputs": [
    {
     "data": {
      "text/html": [
       "<div>\n",
       "<style scoped>\n",
       "    .dataframe tbody tr th:only-of-type {\n",
       "        vertical-align: middle;\n",
       "    }\n",
       "\n",
       "    .dataframe tbody tr th {\n",
       "        vertical-align: top;\n",
       "    }\n",
       "\n",
       "    .dataframe thead th {\n",
       "        text-align: right;\n",
       "    }\n",
       "</style>\n",
       "<table border=\"1\" class=\"dataframe\">\n",
       "  <thead>\n",
       "    <tr style=\"text-align: right;\">\n",
       "      <th></th>\n",
       "      <th>company</th>\n",
       "      <th>location</th>\n",
       "      <th>industry</th>\n",
       "      <th>total_laid_off</th>\n",
       "      <th>percentage_laid_off</th>\n",
       "      <th>date</th>\n",
       "      <th>stage</th>\n",
       "      <th>country</th>\n",
       "      <th>funds_raised</th>\n",
       "    </tr>\n",
       "  </thead>\n",
       "  <tbody>\n",
       "    <tr>\n",
       "      <th>0</th>\n",
       "      <td>SIRCLO</td>\n",
       "      <td>Jakarta</td>\n",
       "      <td>Retail</td>\n",
       "      <td>160.0</td>\n",
       "      <td>0.08</td>\n",
       "      <td>2022-11-22</td>\n",
       "      <td>Series B</td>\n",
       "      <td>Indonesia</td>\n",
       "      <td>92.0</td>\n",
       "    </tr>\n",
       "    <tr>\n",
       "      <th>1</th>\n",
       "      <td>Trax</td>\n",
       "      <td>Singapore</td>\n",
       "      <td>Retail</td>\n",
       "      <td>80.0</td>\n",
       "      <td>0.08</td>\n",
       "      <td>2022-11-22</td>\n",
       "      <td>Series E</td>\n",
       "      <td>Singapore</td>\n",
       "      <td>1000.0</td>\n",
       "    </tr>\n",
       "    <tr>\n",
       "      <th>2</th>\n",
       "      <td>Kitopi</td>\n",
       "      <td>Dubai</td>\n",
       "      <td>Food</td>\n",
       "      <td>93.0</td>\n",
       "      <td>0.10</td>\n",
       "      <td>2022-11-21</td>\n",
       "      <td>Series C</td>\n",
       "      <td>United States</td>\n",
       "      <td>804.0</td>\n",
       "    </tr>\n",
       "    <tr>\n",
       "      <th>3</th>\n",
       "      <td>Zomato</td>\n",
       "      <td>Gurugram</td>\n",
       "      <td>Food</td>\n",
       "      <td>100.0</td>\n",
       "      <td>0.04</td>\n",
       "      <td>2022-11-19</td>\n",
       "      <td>Series J</td>\n",
       "      <td>India</td>\n",
       "      <td>914.0</td>\n",
       "    </tr>\n",
       "    <tr>\n",
       "      <th>4</th>\n",
       "      <td>Carvana</td>\n",
       "      <td>Phoenix</td>\n",
       "      <td>Transportation</td>\n",
       "      <td>1500.0</td>\n",
       "      <td>0.08</td>\n",
       "      <td>2022-11-18</td>\n",
       "      <td>IPO</td>\n",
       "      <td>United States</td>\n",
       "      <td>1600.0</td>\n",
       "    </tr>\n",
       "  </tbody>\n",
       "</table>\n",
       "</div>"
      ],
      "text/plain": [
       "   company   location        industry  total_laid_off  percentage_laid_off  \\\n",
       "0   SIRCLO    Jakarta          Retail           160.0                 0.08   \n",
       "1     Trax  Singapore          Retail            80.0                 0.08   \n",
       "2   Kitopi      Dubai            Food            93.0                 0.10   \n",
       "3   Zomato   Gurugram            Food           100.0                 0.04   \n",
       "4  Carvana    Phoenix  Transportation          1500.0                 0.08   \n",
       "\n",
       "         date     stage        country  funds_raised  \n",
       "0  2022-11-22  Series B      Indonesia          92.0  \n",
       "1  2022-11-22  Series E      Singapore        1000.0  \n",
       "2  2022-11-21  Series C  United States         804.0  \n",
       "3  2022-11-19  Series J          India         914.0  \n",
       "4  2022-11-18       IPO  United States        1600.0  "
      ]
     },
     "execution_count": 3,
     "metadata": {},
     "output_type": "execute_result"
    }
   ],
   "source": [
    "df.head()"
   ]
  },
  {
   "cell_type": "code",
   "execution_count": 4,
   "id": "34199656",
   "metadata": {
    "execution": {
     "iopub.execute_input": "2022-11-23T18:39:26.483172Z",
     "iopub.status.busy": "2022-11-23T18:39:26.481934Z",
     "iopub.status.idle": "2022-11-23T18:39:26.489609Z",
     "shell.execute_reply": "2022-11-23T18:39:26.488719Z"
    },
    "papermill": {
     "duration": 0.020413,
     "end_time": "2022-11-23T18:39:26.491554",
     "exception": false,
     "start_time": "2022-11-23T18:39:26.471141",
     "status": "completed"
    },
    "tags": []
   },
   "outputs": [
    {
     "data": {
      "text/plain": [
       "(1659, 9)"
      ]
     },
     "execution_count": 4,
     "metadata": {},
     "output_type": "execute_result"
    }
   ],
   "source": [
    "df.shape"
   ]
  },
  {
   "cell_type": "code",
   "execution_count": 5,
   "id": "dc326b6f",
   "metadata": {
    "execution": {
     "iopub.execute_input": "2022-11-23T18:39:26.511523Z",
     "iopub.status.busy": "2022-11-23T18:39:26.511144Z",
     "iopub.status.idle": "2022-11-23T18:39:26.548037Z",
     "shell.execute_reply": "2022-11-23T18:39:26.547116Z"
    },
    "papermill": {
     "duration": 0.0497,
     "end_time": "2022-11-23T18:39:26.550359",
     "exception": false,
     "start_time": "2022-11-23T18:39:26.500659",
     "status": "completed"
    },
    "tags": []
   },
   "outputs": [
    {
     "data": {
      "text/html": [
       "<div>\n",
       "<style scoped>\n",
       "    .dataframe tbody tr th:only-of-type {\n",
       "        vertical-align: middle;\n",
       "    }\n",
       "\n",
       "    .dataframe tbody tr th {\n",
       "        vertical-align: top;\n",
       "    }\n",
       "\n",
       "    .dataframe thead th {\n",
       "        text-align: right;\n",
       "    }\n",
       "</style>\n",
       "<table border=\"1\" class=\"dataframe\">\n",
       "  <thead>\n",
       "    <tr style=\"text-align: right;\">\n",
       "      <th></th>\n",
       "      <th>count</th>\n",
       "      <th>mean</th>\n",
       "      <th>std</th>\n",
       "      <th>min</th>\n",
       "      <th>25%</th>\n",
       "      <th>50%</th>\n",
       "      <th>75%</th>\n",
       "      <th>max</th>\n",
       "    </tr>\n",
       "  </thead>\n",
       "  <tbody>\n",
       "    <tr>\n",
       "      <th>total_laid_off</th>\n",
       "      <td>1179.0</td>\n",
       "      <td>198.034775</td>\n",
       "      <td>576.963286</td>\n",
       "      <td>3.0</td>\n",
       "      <td>31.0</td>\n",
       "      <td>70.00</td>\n",
       "      <td>150.00</td>\n",
       "      <td>11000.0</td>\n",
       "    </tr>\n",
       "    <tr>\n",
       "      <th>percentage_laid_off</th>\n",
       "      <td>1110.0</td>\n",
       "      <td>0.275070</td>\n",
       "      <td>0.265643</td>\n",
       "      <td>0.0</td>\n",
       "      <td>0.1</td>\n",
       "      <td>0.19</td>\n",
       "      <td>0.32</td>\n",
       "      <td>1.0</td>\n",
       "    </tr>\n",
       "    <tr>\n",
       "      <th>funds_raised</th>\n",
       "      <td>1544.0</td>\n",
       "      <td>888.407575</td>\n",
       "      <td>6514.276406</td>\n",
       "      <td>0.0</td>\n",
       "      <td>43.6</td>\n",
       "      <td>130.00</td>\n",
       "      <td>377.25</td>\n",
       "      <td>121900.0</td>\n",
       "    </tr>\n",
       "  </tbody>\n",
       "</table>\n",
       "</div>"
      ],
      "text/plain": [
       "                      count        mean          std  min   25%     50%  \\\n",
       "total_laid_off       1179.0  198.034775   576.963286  3.0  31.0   70.00   \n",
       "percentage_laid_off  1110.0    0.275070     0.265643  0.0   0.1    0.19   \n",
       "funds_raised         1544.0  888.407575  6514.276406  0.0  43.6  130.00   \n",
       "\n",
       "                        75%       max  \n",
       "total_laid_off       150.00   11000.0  \n",
       "percentage_laid_off    0.32       1.0  \n",
       "funds_raised         377.25  121900.0  "
      ]
     },
     "execution_count": 5,
     "metadata": {},
     "output_type": "execute_result"
    }
   ],
   "source": [
    "df.describe().T"
   ]
  },
  {
   "cell_type": "code",
   "execution_count": 6,
   "id": "3eed41b1",
   "metadata": {
    "execution": {
     "iopub.execute_input": "2022-11-23T18:39:26.571291Z",
     "iopub.status.busy": "2022-11-23T18:39:26.570872Z",
     "iopub.status.idle": "2022-11-23T18:39:26.579848Z",
     "shell.execute_reply": "2022-11-23T18:39:26.578400Z"
    },
    "papermill": {
     "duration": 0.022284,
     "end_time": "2022-11-23T18:39:26.582273",
     "exception": false,
     "start_time": "2022-11-23T18:39:26.559989",
     "status": "completed"
    },
    "tags": []
   },
   "outputs": [
    {
     "data": {
      "text/plain": [
       "company                 object\n",
       "location                object\n",
       "industry                object\n",
       "total_laid_off         float64\n",
       "percentage_laid_off    float64\n",
       "date                    object\n",
       "stage                   object\n",
       "country                 object\n",
       "funds_raised           float64\n",
       "dtype: object"
      ]
     },
     "execution_count": 6,
     "metadata": {},
     "output_type": "execute_result"
    }
   ],
   "source": [
    "df.dtypes"
   ]
  },
  {
   "cell_type": "code",
   "execution_count": 7,
   "id": "7acd0568",
   "metadata": {
    "execution": {
     "iopub.execute_input": "2022-11-23T18:39:26.603595Z",
     "iopub.status.busy": "2022-11-23T18:39:26.603207Z",
     "iopub.status.idle": "2022-11-23T18:39:26.612742Z",
     "shell.execute_reply": "2022-11-23T18:39:26.611377Z"
    },
    "papermill": {
     "duration": 0.02356,
     "end_time": "2022-11-23T18:39:26.615596",
     "exception": false,
     "start_time": "2022-11-23T18:39:26.592036",
     "status": "completed"
    },
    "tags": []
   },
   "outputs": [
    {
     "data": {
      "text/plain": [
       "company                  0\n",
       "location                 0\n",
       "industry                 3\n",
       "total_laid_off         480\n",
       "percentage_laid_off    549\n",
       "date                     0\n",
       "stage                    4\n",
       "country                  0\n",
       "funds_raised           115\n",
       "dtype: int64"
      ]
     },
     "execution_count": 7,
     "metadata": {},
     "output_type": "execute_result"
    }
   ],
   "source": [
    "#checking for Missing Values :\n",
    "\n",
    "df.isna().sum()"
   ]
  },
  {
   "cell_type": "markdown",
   "id": "5d28703a",
   "metadata": {
    "papermill": {
     "duration": 0.009776,
     "end_time": "2022-11-23T18:39:26.635443",
     "exception": false,
     "start_time": "2022-11-23T18:39:26.625667",
     "status": "completed"
    },
    "tags": []
   },
   "source": [
    "We can see a lot of Missing Values in total_laid_off column , Since no of Layoff per company is the important data and unique per company, we can't substitue it , let us fill those values with zeroes"
   ]
  },
  {
   "cell_type": "code",
   "execution_count": 8,
   "id": "99393aed",
   "metadata": {
    "execution": {
     "iopub.execute_input": "2022-11-23T18:39:26.657360Z",
     "iopub.status.busy": "2022-11-23T18:39:26.656982Z",
     "iopub.status.idle": "2022-11-23T18:39:26.664494Z",
     "shell.execute_reply": "2022-11-23T18:39:26.663346Z"
    },
    "papermill": {
     "duration": 0.021184,
     "end_time": "2022-11-23T18:39:26.666543",
     "exception": false,
     "start_time": "2022-11-23T18:39:26.645359",
     "status": "completed"
    },
    "tags": []
   },
   "outputs": [],
   "source": [
    "df['total_laid_off'] = df['total_laid_off'].fillna(0)\n",
    "df['percentage_laid_off'] = df['percentage_laid_off'].fillna(0)\n",
    "df['stage'] = df['stage'].fillna(0)\n",
    "df['funds_raised'] = df['funds_raised'].fillna(0)\n",
    "df['industry'] = df['industry'].fillna(0)"
   ]
  },
  {
   "cell_type": "markdown",
   "id": "efb282cb",
   "metadata": {
    "execution": {
     "iopub.execute_input": "2022-11-22T23:47:36.654838Z",
     "iopub.status.busy": "2022-11-22T23:47:36.654486Z",
     "iopub.status.idle": "2022-11-22T23:47:36.664184Z",
     "shell.execute_reply": "2022-11-22T23:47:36.663083Z",
     "shell.execute_reply.started": "2022-11-22T23:47:36.654812Z"
    },
    "papermill": {
     "duration": 0.010387,
     "end_time": "2022-11-23T18:39:26.686774",
     "exception": false,
     "start_time": "2022-11-23T18:39:26.676387",
     "status": "completed"
    },
    "tags": []
   },
   "source": [
    "## 1 - Companies with Top Layoffs :"
   ]
  },
  {
   "cell_type": "code",
   "execution_count": 9,
   "id": "6062f48e",
   "metadata": {
    "execution": {
     "iopub.execute_input": "2022-11-23T18:39:26.709161Z",
     "iopub.status.busy": "2022-11-23T18:39:26.708501Z",
     "iopub.status.idle": "2022-11-23T18:39:26.718011Z",
     "shell.execute_reply": "2022-11-23T18:39:26.716974Z"
    },
    "papermill": {
     "duration": 0.022731,
     "end_time": "2022-11-23T18:39:26.719987",
     "exception": false,
     "start_time": "2022-11-23T18:39:26.697256",
     "status": "completed"
    },
    "tags": []
   },
   "outputs": [],
   "source": [
    "top_companies = df.nlargest(5,['total_laid_off'])"
   ]
  },
  {
   "cell_type": "code",
   "execution_count": 10,
   "id": "12702414",
   "metadata": {
    "execution": {
     "iopub.execute_input": "2022-11-23T18:39:26.741486Z",
     "iopub.status.busy": "2022-11-23T18:39:26.741116Z",
     "iopub.status.idle": "2022-11-23T18:39:26.933381Z",
     "shell.execute_reply": "2022-11-23T18:39:26.931876Z"
    },
    "papermill": {
     "duration": 0.206965,
     "end_time": "2022-11-23T18:39:26.936935",
     "exception": false,
     "start_time": "2022-11-23T18:39:26.729970",
     "status": "completed"
    },
    "tags": []
   },
   "outputs": [
    {
     "data": {
      "image/png": "[encoded data removed]",
      "text/plain": [
       "<Figure size 720x432 with 1 Axes>"
      ]
     },
     "metadata": {
      "needs_background": "light"
     },
     "output_type": "display_data"
    }
   ],
   "source": [
    "plt.figure(figsize=(10,6))\n",
    "sns.barplot(x=top_companies.company, y=top_companies.total_laid_off)\n",
    "plt.title(\"Top companies interms of Layoffs\", fontsize=15, fontweight='bold')\n",
    "plt.xlabel(\"Companies\")\n",
    "plt.ylabel(\"No of Layoffs\")\n",
    "plt.show()"
   ]
  },
  {
   "cell_type": "markdown",
   "id": "08231a05",
   "metadata": {
    "papermill": {
     "duration": 0.010464,
     "end_time": "2022-11-23T18:39:26.958568",
     "exception": false,
     "start_time": "2022-11-23T18:39:26.948104",
     "status": "completed"
    },
    "tags": []
   },
   "source": [
    "#### Conclusion :\n",
    "\n",
    "* Meta, Amazon, Booking.com, Cisco & Twitter are the companies with most layoffs,\n",
    "* With Meta topping the chart with over 11000 layoffs."
   ]
  },
  {
   "cell_type": "markdown",
   "id": "370d5c09",
   "metadata": {
    "papermill": {
     "duration": 0.011186,
     "end_time": "2022-11-23T18:39:26.983333",
     "exception": false,
     "start_time": "2022-11-23T18:39:26.972147",
     "status": "completed"
    },
    "tags": []
   },
   "source": [
    "## 2 - Layoffs by Companies across Sectors : "
   ]
  },
  {
   "cell_type": "code",
   "execution_count": 11,
   "id": "9df819ba",
   "metadata": {
    "execution": {
     "iopub.execute_input": "2022-11-23T18:39:27.008203Z",
     "iopub.status.busy": "2022-11-23T18:39:27.007637Z",
     "iopub.status.idle": "2022-11-23T18:39:27.156651Z",
     "shell.execute_reply": "2022-11-23T18:39:27.155834Z"
    },
    "papermill": {
     "duration": 0.163886,
     "end_time": "2022-11-23T18:39:27.158761",
     "exception": false,
     "start_time": "2022-11-23T18:39:26.994875",
     "status": "completed"
    },
    "tags": []
   },
   "outputs": [
    {
     "data": {
      "image/png": "[encoded data removed]",
      "text/plain": [
       "<Figure size 576x432 with 1 Axes>"
      ]
     },
     "metadata": {
      "needs_background": "light"
     },
     "output_type": "display_data"
    }
   ],
   "source": [
    "sectors = np.array(df.groupby('industry')['total_laid_off'].sum().sort_values(ascending=False).head())\n",
    "arr = np.array(['transportation','Consumer','Retail','Finance','Food'])\n",
    "\n",
    "arr = np.array(['transportation','Consumer','Retail','Finance','Food'])\n",
    "plt.figure(figsize= (8 ,6))\n",
    "plt.bar(arr,sectors)\n",
    "plt.xlabel('Sectors',fontdict={'size':12,'color':'orange'})\n",
    "plt.ylabel('count',fontdict={'size':12,'color':'orange'})\n",
    "plt.title('Top Sectors by layoffs',fontdict={'size':18,'color':'orange'})\n",
    "plt.show()\n"
   ]
  },
  {
   "cell_type": "markdown",
   "id": "b8c3693b",
   "metadata": {
    "execution": {
     "iopub.execute_input": "2022-11-23T00:14:32.146026Z",
     "iopub.status.busy": "2022-11-23T00:14:32.145578Z",
     "iopub.status.idle": "2022-11-23T00:14:32.153231Z",
     "shell.execute_reply": "2022-11-23T00:14:32.152238Z",
     "shell.execute_reply.started": "2022-11-23T00:14:32.145997Z"
    },
    "papermill": {
     "duration": 0.00967,
     "end_time": "2022-11-23T18:39:27.179373",
     "exception": false,
     "start_time": "2022-11-23T18:39:27.169703",
     "status": "completed"
    },
    "tags": []
   },
   "source": [
    "#### Transportaion sector have laid off People more than anyone else"
   ]
  },
  {
   "cell_type": "markdown",
   "id": "423b81f4",
   "metadata": {
    "papermill": {
     "duration": 0.00997,
     "end_time": "2022-11-23T18:39:27.199610",
     "exception": false,
     "start_time": "2022-11-23T18:39:27.189640",
     "status": "completed"
    },
    "tags": []
   },
   "source": [
    "## 3 - Countries that are Mostly affected by layoffs :"
   ]
  },
  {
   "cell_type": "code",
   "execution_count": 12,
   "id": "cb4f2fdb",
   "metadata": {
    "execution": {
     "iopub.execute_input": "2022-11-23T18:39:27.222771Z",
     "iopub.status.busy": "2022-11-23T18:39:27.221415Z",
     "iopub.status.idle": "2022-11-23T18:39:27.372249Z",
     "shell.execute_reply": "2022-11-23T18:39:27.371159Z"
    },
    "papermill": {
     "duration": 0.165193,
     "end_time": "2022-11-23T18:39:27.374889",
     "exception": false,
     "start_time": "2022-11-23T18:39:27.209696",
     "status": "completed"
    },
    "tags": []
   },
   "outputs": [
    {
     "data": {
      "image/png": "[encoded data removed]",
      "text/plain": [
       "<Figure size 504x504 with 1 Axes>"
      ]
     },
     "metadata": {
      "needs_background": "light"
     },
     "output_type": "display_data"
    }
   ],
   "source": [
    "countries = np.array(df.groupby('country')['total_laid_off'].sum().sort_values(ascending=False).head())\n",
    "arr1 = np.array(['US','India','Brazil','Singapore','Canada'])\n",
    "\n",
    "plt.figure(figsize=(7,7))\n",
    "ax = sns.barplot(x=countries, y=arr1, data=df)\n",
    "plt.title('Most Affected Countries')\n",
    "plt.show()"
   ]
  },
  {
   "cell_type": "markdown",
   "id": "66eb60be",
   "metadata": {
    "papermill": {
     "duration": 0.010796,
     "end_time": "2022-11-23T18:39:27.396302",
     "exception": false,
     "start_time": "2022-11-23T18:39:27.385506",
     "status": "completed"
    },
    "tags": []
   },
   "source": [
    "#### Conclusion :\n",
    "\n",
    "The United States has seen the most layoffs, followed by India."
   ]
  },
  {
   "cell_type": "markdown",
   "id": "c942ef17",
   "metadata": {
    "papermill": {
     "duration": 0.010156,
     "end_time": "2022-11-23T18:39:27.417205",
     "exception": false,
     "start_time": "2022-11-23T18:39:27.407049",
     "status": "completed"
    },
    "tags": []
   },
   "source": [
    "## 4 - City with Most no of Layoffs :"
   ]
  },
  {
   "cell_type": "code",
   "execution_count": 13,
   "id": "7c931cf7",
   "metadata": {
    "execution": {
     "iopub.execute_input": "2022-11-23T18:39:27.441255Z",
     "iopub.status.busy": "2022-11-23T18:39:27.440645Z",
     "iopub.status.idle": "2022-11-23T18:39:27.449093Z",
     "shell.execute_reply": "2022-11-23T18:39:27.447357Z"
    },
    "papermill": {
     "duration": 0.023722,
     "end_time": "2022-11-23T18:39:27.451791",
     "exception": false,
     "start_time": "2022-11-23T18:39:27.428069",
     "status": "completed"
    },
    "tags": []
   },
   "outputs": [],
   "source": [
    "location = df.groupby('location')['total_laid_off'].sum().sort_values(ascending=False).head()\n",
    "arr2 = np.array(['SF bay Area','NYC','Bengaluru','seattle','boston'])"
   ]
  },
  {
   "cell_type": "code",
   "execution_count": 14,
   "id": "fba21d19",
   "metadata": {
    "execution": {
     "iopub.execute_input": "2022-11-23T18:39:27.475241Z",
     "iopub.status.busy": "2022-11-23T18:39:27.474818Z",
     "iopub.status.idle": "2022-11-23T18:39:27.630980Z",
     "shell.execute_reply": "2022-11-23T18:39:27.630207Z"
    },
    "papermill": {
     "duration": 0.17035,
     "end_time": "2022-11-23T18:39:27.633115",
     "exception": false,
     "start_time": "2022-11-23T18:39:27.462765",
     "status": "completed"
    },
    "tags": []
   },
   "outputs": [
    {
     "data": {
      "image/png": "[encoded data removed]",
      "text/plain": [
       "<Figure size 504x504 with 1 Axes>"
      ]
     },
     "metadata": {
      "needs_background": "light"
     },
     "output_type": "display_data"
    }
   ],
   "source": [
    "plt.figure(figsize=(7,7))\n",
    "ax = sns.barplot(x=location, y=arr2, data=df)\n",
    "plt.title('Most Affected Locations')\n",
    "plt.show() "
   ]
  },
  {
   "cell_type": "markdown",
   "id": "d2ade19e",
   "metadata": {
    "papermill": {
     "duration": 0.01009,
     "end_time": "2022-11-23T18:39:27.653808",
     "exception": false,
     "start_time": "2022-11-23T18:39:27.643718",
     "status": "completed"
    },
    "tags": []
   },
   "source": [
    "#### San Francisco bay Area have been Most affected by the layoffs"
   ]
  },
  {
   "cell_type": "code",
   "execution_count": 15,
   "id": "a15a7a9c",
   "metadata": {
    "execution": {
     "iopub.execute_input": "2022-11-23T18:39:27.680293Z",
     "iopub.status.busy": "2022-11-23T18:39:27.678769Z",
     "iopub.status.idle": "2022-11-23T18:39:27.697666Z",
     "shell.execute_reply": "2022-11-23T18:39:27.696761Z"
    },
    "papermill": {
     "duration": 0.038136,
     "end_time": "2022-11-23T18:39:27.702614",
     "exception": false,
     "start_time": "2022-11-23T18:39:27.664478",
     "status": "completed"
    },
    "tags": []
   },
   "outputs": [],
   "source": [
    "#Lets split the date column to get more Insights :\n",
    "\n",
    "df_1 = df.copy()\n",
    "\n",
    "df_1['year']=df_1['date'].str.split('-').str[0]\n",
    "df_1['month']=df_1['date'].str.split('-').str[1]\n",
    "df_1['day']=df_1['date'].str.split('-').str[2]\n",
    "\n",
    "df_1['year']=df_1['year'].astype(int)\n",
    "df_1['month']=df_1['month'].astype(int)\n",
    "df_1['day']=df_1['day'].astype(int)"
   ]
  },
  {
   "cell_type": "code",
   "execution_count": 16,
   "id": "26f90633",
   "metadata": {
    "execution": {
     "iopub.execute_input": "2022-11-23T18:39:27.726413Z",
     "iopub.status.busy": "2022-11-23T18:39:27.725713Z",
     "iopub.status.idle": "2022-11-23T18:39:27.742495Z",
     "shell.execute_reply": "2022-11-23T18:39:27.741106Z"
    },
    "papermill": {
     "duration": 0.030831,
     "end_time": "2022-11-23T18:39:27.744603",
     "exception": false,
     "start_time": "2022-11-23T18:39:27.713772",
     "status": "completed"
    },
    "tags": []
   },
   "outputs": [
    {
     "data": {
      "text/html": [
       "<div>\n",
       "<style scoped>\n",
       "    .dataframe tbody tr th:only-of-type {\n",
       "        vertical-align: middle;\n",
       "    }\n",
       "\n",
       "    .dataframe tbody tr th {\n",
       "        vertical-align: top;\n",
       "    }\n",
       "\n",
       "    .dataframe thead th {\n",
       "        text-align: right;\n",
       "    }\n",
       "</style>\n",
       "<table border=\"1\" class=\"dataframe\">\n",
       "  <thead>\n",
       "    <tr style=\"text-align: right;\">\n",
       "      <th></th>\n",
       "      <th>company</th>\n",
       "      <th>location</th>\n",
       "      <th>industry</th>\n",
       "      <th>total_laid_off</th>\n",
       "      <th>percentage_laid_off</th>\n",
       "      <th>date</th>\n",
       "      <th>stage</th>\n",
       "      <th>country</th>\n",
       "      <th>funds_raised</th>\n",
       "      <th>year</th>\n",
       "      <th>month</th>\n",
       "      <th>day</th>\n",
       "    </tr>\n",
       "  </thead>\n",
       "  <tbody>\n",
       "    <tr>\n",
       "      <th>0</th>\n",
       "      <td>SIRCLO</td>\n",
       "      <td>Jakarta</td>\n",
       "      <td>Retail</td>\n",
       "      <td>160.0</td>\n",
       "      <td>0.08</td>\n",
       "      <td>2022-11-22</td>\n",
       "      <td>Series B</td>\n",
       "      <td>Indonesia</td>\n",
       "      <td>92.0</td>\n",
       "      <td>2022</td>\n",
       "      <td>11</td>\n",
       "      <td>22</td>\n",
       "    </tr>\n",
       "    <tr>\n",
       "      <th>1</th>\n",
       "      <td>Trax</td>\n",
       "      <td>Singapore</td>\n",
       "      <td>Retail</td>\n",
       "      <td>80.0</td>\n",
       "      <td>0.08</td>\n",
       "      <td>2022-11-22</td>\n",
       "      <td>Series E</td>\n",
       "      <td>Singapore</td>\n",
       "      <td>1000.0</td>\n",
       "      <td>2022</td>\n",
       "      <td>11</td>\n",
       "      <td>22</td>\n",
       "    </tr>\n",
       "  </tbody>\n",
       "</table>\n",
       "</div>"
      ],
      "text/plain": [
       "  company   location industry  total_laid_off  percentage_laid_off  \\\n",
       "0  SIRCLO    Jakarta   Retail           160.0                 0.08   \n",
       "1    Trax  Singapore   Retail            80.0                 0.08   \n",
       "\n",
       "         date     stage    country  funds_raised  year  month  day  \n",
       "0  2022-11-22  Series B  Indonesia          92.0  2022     11   22  \n",
       "1  2022-11-22  Series E  Singapore        1000.0  2022     11   22  "
      ]
     },
     "execution_count": 16,
     "metadata": {},
     "output_type": "execute_result"
    }
   ],
   "source": [
    "df_1.head(2)"
   ]
  },
  {
   "cell_type": "code",
   "execution_count": 17,
   "id": "e8badb64",
   "metadata": {
    "execution": {
     "iopub.execute_input": "2022-11-23T18:39:27.769142Z",
     "iopub.status.busy": "2022-11-23T18:39:27.768748Z",
     "iopub.status.idle": "2022-11-23T18:39:27.776783Z",
     "shell.execute_reply": "2022-11-23T18:39:27.776035Z"
    },
    "papermill": {
     "duration": 0.02261,
     "end_time": "2022-11-23T18:39:27.779011",
     "exception": false,
     "start_time": "2022-11-23T18:39:27.756401",
     "status": "completed"
    },
    "tags": []
   },
   "outputs": [
    {
     "data": {
      "text/plain": [
       "3"
      ]
     },
     "execution_count": 17,
     "metadata": {},
     "output_type": "execute_result"
    }
   ],
   "source": [
    "df_1['year'].nunique()"
   ]
  },
  {
   "cell_type": "markdown",
   "id": "50762d38",
   "metadata": {
    "papermill": {
     "duration": 0.010544,
     "end_time": "2022-11-23T18:39:27.800592",
     "exception": false,
     "start_time": "2022-11-23T18:39:27.790048",
     "status": "completed"
    },
    "tags": []
   },
   "source": [
    "## 5 - Comparison of Layoffs to Previous Years :"
   ]
  },
  {
   "cell_type": "code",
   "execution_count": 18,
   "id": "65607ba5",
   "metadata": {
    "execution": {
     "iopub.execute_input": "2022-11-23T18:39:27.825372Z",
     "iopub.status.busy": "2022-11-23T18:39:27.823938Z",
     "iopub.status.idle": "2022-11-23T18:39:27.832774Z",
     "shell.execute_reply": "2022-11-23T18:39:27.831631Z"
    },
    "papermill": {
     "duration": 0.023383,
     "end_time": "2022-11-23T18:39:27.834991",
     "exception": false,
     "start_time": "2022-11-23T18:39:27.811608",
     "status": "completed"
    },
    "tags": []
   },
   "outputs": [
    {
     "data": {
      "text/plain": [
       "2022    983\n",
       "2020    633\n",
       "2021     43\n",
       "Name: year, dtype: int64"
      ]
     },
     "execution_count": 18,
     "metadata": {},
     "output_type": "execute_result"
    }
   ],
   "source": [
    "df_1['year'].value_counts(sort=True)"
   ]
  },
  {
   "cell_type": "code",
   "execution_count": 19,
   "id": "b002b56a",
   "metadata": {
    "execution": {
     "iopub.execute_input": "2022-11-23T18:39:27.860141Z",
     "iopub.status.busy": "2022-11-23T18:39:27.859260Z",
     "iopub.status.idle": "2022-11-23T18:39:28.073312Z",
     "shell.execute_reply": "2022-11-23T18:39:28.071993Z"
    },
    "papermill": {
     "duration": 0.229887,
     "end_time": "2022-11-23T18:39:28.075940",
     "exception": false,
     "start_time": "2022-11-23T18:39:27.846053",
     "status": "completed"
    },
    "tags": []
   },
   "outputs": [
    {
     "data": {
      "image/png": "[encoded data removed]",
      "text/plain": [
       "<Figure size 720x432 with 1 Axes>"
      ]
     },
     "metadata": {
      "needs_background": "light"
     },
     "output_type": "display_data"
    }
   ],
   "source": [
    "g = sns.catplot(x='year', y='total_laid_off', data=df_1)\n",
    "g.fig.set_figwidth(10)\n",
    "g.fig.set_figheight(6) "
   ]
  },
  {
   "cell_type": "markdown",
   "id": "380db532",
   "metadata": {
    "papermill": {
     "duration": 0.011638,
     "end_time": "2022-11-23T18:39:28.099377",
     "exception": false,
     "start_time": "2022-11-23T18:39:28.087739",
     "status": "completed"
    },
    "tags": []
   },
   "source": [
    "## 6 - Total no of Layoffs - Year wise calculation :"
   ]
  },
  {
   "cell_type": "code",
   "execution_count": 20,
   "id": "c46843b2",
   "metadata": {
    "execution": {
     "iopub.execute_input": "2022-11-23T18:39:28.124943Z",
     "iopub.status.busy": "2022-11-23T18:39:28.124507Z",
     "iopub.status.idle": "2022-11-23T18:39:28.135529Z",
     "shell.execute_reply": "2022-11-23T18:39:28.134489Z"
    },
    "papermill": {
     "duration": 0.025916,
     "end_time": "2022-11-23T18:39:28.137412",
     "exception": false,
     "start_time": "2022-11-23T18:39:28.111496",
     "status": "completed"
    },
    "tags": []
   },
   "outputs": [],
   "source": [
    "df_layoffs_2022 = df_1[df_1['year']==2022]\n",
    "df_layoffs_2021 = df_1[df_1['year']==2021]\n",
    "df_layoffs_2020 = df_1[df_1['year']==2020]\n",
    "\n",
    "total_laid_off_2020 = df_layoffs_2020['total_laid_off'].sum()\n",
    "total_laid_off_2021 = df_layoffs_2021['total_laid_off'].sum()\n",
    "total_laid_off_2022 = df_layoffs_2022['total_laid_off'].sum()"
   ]
  },
  {
   "cell_type": "code",
   "execution_count": 21,
   "id": "561de1ea",
   "metadata": {
    "execution": {
     "iopub.execute_input": "2022-11-23T18:39:28.162551Z",
     "iopub.status.busy": "2022-11-23T18:39:28.162197Z",
     "iopub.status.idle": "2022-11-23T18:39:28.321557Z",
     "shell.execute_reply": "2022-11-23T18:39:28.320341Z"
    },
    "papermill": {
     "duration": 0.174287,
     "end_time": "2022-11-23T18:39:28.323884",
     "exception": false,
     "start_time": "2022-11-23T18:39:28.149597",
     "status": "completed"
    },
    "tags": []
   },
   "outputs": [
    {
     "data": {
      "image/png": "[encoded data removed]",
      "text/plain": [
       "<Figure size 576x432 with 1 Axes>"
      ]
     },
     "metadata": {},
     "output_type": "display_data"
    }
   ],
   "source": [
    "total_layoffs = (total_laid_off_2020,total_laid_off_2021,total_laid_off_2022)\n",
    "labels = ['2020 - 80968','2021 - 15023','2022 - 137492']\n",
    "\n",
    "plt.figure(figsize=(8,6))\n",
    "plt.pie(total_layoffs, labels=labels,shadow=False)\n",
    "plt.legend(labels=labels, \n",
    "           bbox_to_anchor=(1,1))\n",
    "plt.title('Total no of Layoffs - Year wise')\n",
    "plt.show()"
   ]
  },
  {
   "cell_type": "markdown",
   "id": "a3f14977",
   "metadata": {
    "papermill": {
     "duration": 0.014979,
     "end_time": "2022-11-23T18:39:28.354311",
     "exception": false,
     "start_time": "2022-11-23T18:39:28.339332",
     "status": "completed"
    },
    "tags": []
   },
   "source": [
    "## 7 - Sectorwise layoffs compared to previous Years :"
   ]
  },
  {
   "cell_type": "code",
   "execution_count": 22,
   "id": "32e00900",
   "metadata": {
    "execution": {
     "iopub.execute_input": "2022-11-23T18:39:28.386806Z",
     "iopub.status.busy": "2022-11-23T18:39:28.386161Z",
     "iopub.status.idle": "2022-11-23T18:39:29.252739Z",
     "shell.execute_reply": "2022-11-23T18:39:29.251448Z"
    },
    "papermill": {
     "duration": 0.885633,
     "end_time": "2022-11-23T18:39:29.255131",
     "exception": false,
     "start_time": "2022-11-23T18:39:28.369498",
     "status": "completed"
    },
    "tags": []
   },
   "outputs": [
    {
     "data": {
      "text/plain": [
       "<AxesSubplot:title={'center':'Sectorwise Layoffs in 2022,2021 & 2020'}, xlabel='industry', ylabel='total_laid_off'>"
      ]
     },
     "execution_count": 22,
     "metadata": {},
     "output_type": "execute_result"
    },
    {
     "data": {
      "image/png": "[encoded data removed]",
      "text/plain": [
       "<Figure size 864x720 with 1 Axes>"
      ]
     },
     "metadata": {
      "needs_background": "light"
     },
     "output_type": "display_data"
    }
   ],
   "source": [
    "df_sector = df_1.groupby([ df_1.industry, df_1.year]).sum()\n",
    "df_sector = df_sector.reset_index()\n",
    "\n",
    "plt.figure(figsize=(12, 10))\n",
    "plt.xticks(rotation=90)\n",
    "plt.title(\"Sectorwise Layoffs in 2022,2021 & 2020\")\n",
    "\n",
    "sns.barplot(data=df_sector.sort_values(by=['total_laid_off','year'], ascending=False), x=\"industry\", y=\"total_laid_off\", hue=\"year\")"
   ]
  },
  {
   "cell_type": "markdown",
   "id": "fbaaa5e6",
   "metadata": {
    "papermill": {
     "duration": 0.011531,
     "end_time": "2022-11-23T18:39:29.279386",
     "exception": false,
     "start_time": "2022-11-23T18:39:29.267855",
     "status": "completed"
    },
    "tags": []
   },
   "source": [
    "#### Conclusion:\n",
    " \n",
    "Year 2022 have the most no of layoffs , followed by 2020(COVID)"
   ]
  },
  {
   "cell_type": "markdown",
   "id": "04800af0",
   "metadata": {
    "papermill": {
     "duration": 0.01171,
     "end_time": "2022-11-23T18:39:29.302980",
     "exception": false,
     "start_time": "2022-11-23T18:39:29.291270",
     "status": "completed"
    },
    "tags": []
   },
   "source": [
    "## Layoffs in India :"
   ]
  },
  {
   "cell_type": "markdown",
   "id": "faae8beb",
   "metadata": {
    "papermill": {
     "duration": 0.011631,
     "end_time": "2022-11-23T18:39:29.326685",
     "exception": false,
     "start_time": "2022-11-23T18:39:29.315054",
     "status": "completed"
    },
    "tags": []
   },
   "source": [
    "Lets see how the economic slowdown and Layoffs have affected USA and India "
   ]
  },
  {
   "cell_type": "code",
   "execution_count": 23,
   "id": "d3acacc1",
   "metadata": {
    "execution": {
     "iopub.execute_input": "2022-11-23T18:39:29.352387Z",
     "iopub.status.busy": "2022-11-23T18:39:29.352002Z",
     "iopub.status.idle": "2022-11-23T18:39:29.358940Z",
     "shell.execute_reply": "2022-11-23T18:39:29.357760Z"
    },
    "papermill": {
     "duration": 0.022961,
     "end_time": "2022-11-23T18:39:29.361689",
     "exception": false,
     "start_time": "2022-11-23T18:39:29.338728",
     "status": "completed"
    },
    "tags": []
   },
   "outputs": [],
   "source": [
    "df_india = df_1[df_1['country']==\"India\"]"
   ]
  },
  {
   "cell_type": "markdown",
   "id": "9c7e5f6f",
   "metadata": {
    "papermill": {
     "duration": 0.01202,
     "end_time": "2022-11-23T18:39:29.386222",
     "exception": false,
     "start_time": "2022-11-23T18:39:29.374202",
     "status": "completed"
    },
    "tags": []
   },
   "source": [
    "## 8 - Most Affected Sector in India :"
   ]
  },
  {
   "cell_type": "code",
   "execution_count": 24,
   "id": "208206d4",
   "metadata": {
    "execution": {
     "iopub.execute_input": "2022-11-23T18:39:29.413468Z",
     "iopub.status.busy": "2022-11-23T18:39:29.412021Z",
     "iopub.status.idle": "2022-11-23T18:39:29.636183Z",
     "shell.execute_reply": "2022-11-23T18:39:29.634653Z"
    },
    "papermill": {
     "duration": 0.23997,
     "end_time": "2022-11-23T18:39:29.638499",
     "exception": false,
     "start_time": "2022-11-23T18:39:29.398529",
     "status": "completed"
    },
    "tags": []
   },
   "outputs": [
    {
     "data": {
      "image/png": "[encoded data removed]",
      "text/plain": [
       "<Figure size 504x504 with 1 Axes>"
      ]
     },
     "metadata": {
      "needs_background": "light"
     },
     "output_type": "display_data"
    }
   ],
   "source": [
    "plt.figure(figsize=(7,7))\n",
    "sns.countplot(x=df_india['industry'], data=df_india)\n",
    "plt.title('Most affected Sector in India')\n",
    "plt.xticks(rotation=90)\n",
    "plt.show()"
   ]
  },
  {
   "cell_type": "markdown",
   "id": "d6a5b419",
   "metadata": {
    "papermill": {
     "duration": 0.012334,
     "end_time": "2022-11-23T18:39:29.663579",
     "exception": false,
     "start_time": "2022-11-23T18:39:29.651245",
     "status": "completed"
    },
    "tags": []
   },
   "source": [
    "#### conclusion :\n",
    "    \n",
    "EdTech sector is heavinly affected and laid off comparing others"
   ]
  },
  {
   "cell_type": "markdown",
   "id": "bd9c0469",
   "metadata": {
    "papermill": {
     "duration": 0.012717,
     "end_time": "2022-11-23T18:39:29.690127",
     "exception": false,
     "start_time": "2022-11-23T18:39:29.677410",
     "status": "completed"
    },
    "tags": []
   },
   "source": [
    "## 9 - Most Affected Locations in India :"
   ]
  },
  {
   "cell_type": "code",
   "execution_count": 25,
   "id": "fc3dea3c",
   "metadata": {
    "execution": {
     "iopub.execute_input": "2022-11-23T18:39:29.717881Z",
     "iopub.status.busy": "2022-11-23T18:39:29.717478Z",
     "iopub.status.idle": "2022-11-23T18:39:29.981795Z",
     "shell.execute_reply": "2022-11-23T18:39:29.980850Z"
    },
    "papermill": {
     "duration": 0.280634,
     "end_time": "2022-11-23T18:39:29.983813",
     "exception": false,
     "start_time": "2022-11-23T18:39:29.703179",
     "status": "completed"
    },
    "tags": []
   },
   "outputs": [
    {
     "data": {
      "image/png": "[encoded data removed]",
      "text/plain": [
       "<Figure size 720x432 with 1 Axes>"
      ]
     },
     "metadata": {
      "needs_background": "light"
     },
     "output_type": "display_data"
    }
   ],
   "source": [
    "loc = sns.displot(x=df_india['location'], data=df_india, kde=True)\n",
    "plt.title('Most Affected locations in INDIA')\n",
    "loc.fig.set_figwidth(10)\n",
    "loc.fig.set_figheight(6)"
   ]
  },
  {
   "cell_type": "markdown",
   "id": "bc0d1c58",
   "metadata": {
    "papermill": {
     "duration": 0.012607,
     "end_time": "2022-11-23T18:39:30.010318",
     "exception": false,
     "start_time": "2022-11-23T18:39:29.997711",
     "status": "completed"
    },
    "tags": []
   },
   "source": [
    "## 10 - No of Layoffs in Each Country:"
   ]
  },
  {
   "cell_type": "code",
   "execution_count": 26,
   "id": "05bf1005",
   "metadata": {
    "execution": {
     "iopub.execute_input": "2022-11-23T18:39:30.041107Z",
     "iopub.status.busy": "2022-11-23T18:39:30.038968Z",
     "iopub.status.idle": "2022-11-23T18:39:30.056578Z",
     "shell.execute_reply": "2022-11-23T18:39:30.054940Z"
    },
    "papermill": {
     "duration": 0.036112,
     "end_time": "2022-11-23T18:39:30.059697",
     "exception": false,
     "start_time": "2022-11-23T18:39:30.023585",
     "status": "completed"
    },
    "tags": []
   },
   "outputs": [
    {
     "data": {
      "text/html": [
       "<div>\n",
       "<style scoped>\n",
       "    .dataframe tbody tr th:only-of-type {\n",
       "        vertical-align: middle;\n",
       "    }\n",
       "\n",
       "    .dataframe tbody tr th {\n",
       "        vertical-align: top;\n",
       "    }\n",
       "\n",
       "    .dataframe thead th {\n",
       "        text-align: right;\n",
       "    }\n",
       "</style>\n",
       "<table border=\"1\" class=\"dataframe\">\n",
       "  <thead>\n",
       "    <tr style=\"text-align: right;\">\n",
       "      <th></th>\n",
       "      <th>country</th>\n",
       "    </tr>\n",
       "    <tr>\n",
       "      <th>index</th>\n",
       "      <th></th>\n",
       "    </tr>\n",
       "  </thead>\n",
       "  <tbody>\n",
       "    <tr>\n",
       "      <th>United States</th>\n",
       "      <td>1109</td>\n",
       "    </tr>\n",
       "    <tr>\n",
       "      <th>India</th>\n",
       "      <td>102</td>\n",
       "    </tr>\n",
       "    <tr>\n",
       "      <th>Canada</th>\n",
       "      <td>75</td>\n",
       "    </tr>\n",
       "    <tr>\n",
       "      <th>Brazil</th>\n",
       "      <td>53</td>\n",
       "    </tr>\n",
       "    <tr>\n",
       "      <th>United Kingdom</th>\n",
       "      <td>48</td>\n",
       "    </tr>\n",
       "    <tr>\n",
       "      <th>Germany</th>\n",
       "      <td>46</td>\n",
       "    </tr>\n",
       "    <tr>\n",
       "      <th>Israel</th>\n",
       "      <td>36</td>\n",
       "    </tr>\n",
       "    <tr>\n",
       "      <th>Australia</th>\n",
       "      <td>31</td>\n",
       "    </tr>\n",
       "    <tr>\n",
       "      <th>Singapore</th>\n",
       "      <td>22</td>\n",
       "    </tr>\n",
       "    <tr>\n",
       "      <th>Indonesia</th>\n",
       "      <td>18</td>\n",
       "    </tr>\n",
       "    <tr>\n",
       "      <th>Sweden</th>\n",
       "      <td>17</td>\n",
       "    </tr>\n",
       "    <tr>\n",
       "      <th>China</th>\n",
       "      <td>11</td>\n",
       "    </tr>\n",
       "    <tr>\n",
       "      <th>United Arab Emirates</th>\n",
       "      <td>6</td>\n",
       "    </tr>\n",
       "    <tr>\n",
       "      <th>Kenya</th>\n",
       "      <td>5</td>\n",
       "    </tr>\n",
       "    <tr>\n",
       "      <th>Hong Kong</th>\n",
       "      <td>5</td>\n",
       "    </tr>\n",
       "    <tr>\n",
       "      <th>Nigeria</th>\n",
       "      <td>5</td>\n",
       "    </tr>\n",
       "    <tr>\n",
       "      <th>Estonia</th>\n",
       "      <td>4</td>\n",
       "    </tr>\n",
       "    <tr>\n",
       "      <th>Netherlands</th>\n",
       "      <td>4</td>\n",
       "    </tr>\n",
       "    <tr>\n",
       "      <th>Denmark</th>\n",
       "      <td>4</td>\n",
       "    </tr>\n",
       "    <tr>\n",
       "      <th>Colombia</th>\n",
       "      <td>3</td>\n",
       "    </tr>\n",
       "    <tr>\n",
       "      <th>Seychelles</th>\n",
       "      <td>3</td>\n",
       "    </tr>\n",
       "    <tr>\n",
       "      <th>Norway</th>\n",
       "      <td>3</td>\n",
       "    </tr>\n",
       "    <tr>\n",
       "      <th>Pakistan</th>\n",
       "      <td>3</td>\n",
       "    </tr>\n",
       "    <tr>\n",
       "      <th>Luxembourg</th>\n",
       "      <td>3</td>\n",
       "    </tr>\n",
       "    <tr>\n",
       "      <th>Ireland</th>\n",
       "      <td>3</td>\n",
       "    </tr>\n",
       "    <tr>\n",
       "      <th>Malaysia</th>\n",
       "      <td>3</td>\n",
       "    </tr>\n",
       "    <tr>\n",
       "      <th>Vietnam</th>\n",
       "      <td>3</td>\n",
       "    </tr>\n",
       "    <tr>\n",
       "      <th>Austria</th>\n",
       "      <td>2</td>\n",
       "    </tr>\n",
       "    <tr>\n",
       "      <th>Mexico</th>\n",
       "      <td>2</td>\n",
       "    </tr>\n",
       "    <tr>\n",
       "      <th>Portugal</th>\n",
       "      <td>2</td>\n",
       "    </tr>\n",
       "    <tr>\n",
       "      <th>Romania</th>\n",
       "      <td>2</td>\n",
       "    </tr>\n",
       "    <tr>\n",
       "      <th>New Zealand</th>\n",
       "      <td>2</td>\n",
       "    </tr>\n",
       "    <tr>\n",
       "      <th>Argentina</th>\n",
       "      <td>2</td>\n",
       "    </tr>\n",
       "    <tr>\n",
       "      <th>Egypt</th>\n",
       "      <td>1</td>\n",
       "    </tr>\n",
       "    <tr>\n",
       "      <th>Greece</th>\n",
       "      <td>1</td>\n",
       "    </tr>\n",
       "    <tr>\n",
       "      <th>Czech Republic</th>\n",
       "      <td>1</td>\n",
       "    </tr>\n",
       "    <tr>\n",
       "      <th>South Africa</th>\n",
       "      <td>1</td>\n",
       "    </tr>\n",
       "    <tr>\n",
       "      <th>Spain</th>\n",
       "      <td>1</td>\n",
       "    </tr>\n",
       "    <tr>\n",
       "      <th>Switzerland</th>\n",
       "      <td>1</td>\n",
       "    </tr>\n",
       "    <tr>\n",
       "      <th>France</th>\n",
       "      <td>1</td>\n",
       "    </tr>\n",
       "    <tr>\n",
       "      <th>Bulgaria</th>\n",
       "      <td>1</td>\n",
       "    </tr>\n",
       "    <tr>\n",
       "      <th>Uruguay</th>\n",
       "      <td>1</td>\n",
       "    </tr>\n",
       "    <tr>\n",
       "      <th>Russia</th>\n",
       "      <td>1</td>\n",
       "    </tr>\n",
       "    <tr>\n",
       "      <th>Turkey</th>\n",
       "      <td>1</td>\n",
       "    </tr>\n",
       "    <tr>\n",
       "      <th>Bahrain</th>\n",
       "      <td>1</td>\n",
       "    </tr>\n",
       "    <tr>\n",
       "      <th>Thailand</th>\n",
       "      <td>1</td>\n",
       "    </tr>\n",
       "    <tr>\n",
       "      <th>Peru</th>\n",
       "      <td>1</td>\n",
       "    </tr>\n",
       "    <tr>\n",
       "      <th>Finland</th>\n",
       "      <td>1</td>\n",
       "    </tr>\n",
       "    <tr>\n",
       "      <th>Poland</th>\n",
       "      <td>1</td>\n",
       "    </tr>\n",
       "    <tr>\n",
       "      <th>Belgium</th>\n",
       "      <td>1</td>\n",
       "    </tr>\n",
       "    <tr>\n",
       "      <th>Senegal</th>\n",
       "      <td>1</td>\n",
       "    </tr>\n",
       "    <tr>\n",
       "      <th>Chile</th>\n",
       "      <td>1</td>\n",
       "    </tr>\n",
       "    <tr>\n",
       "      <th>Lithuania</th>\n",
       "      <td>1</td>\n",
       "    </tr>\n",
       "    <tr>\n",
       "      <th>Hungary</th>\n",
       "      <td>1</td>\n",
       "    </tr>\n",
       "    <tr>\n",
       "      <th>Myanmar</th>\n",
       "      <td>1</td>\n",
       "    </tr>\n",
       "  </tbody>\n",
       "</table>\n",
       "</div>"
      ],
      "text/plain": [
       "                      country\n",
       "index                        \n",
       "United States            1109\n",
       "India                     102\n",
       "Canada                     75\n",
       "Brazil                     53\n",
       "United Kingdom             48\n",
       "Germany                    46\n",
       "Israel                     36\n",
       "Australia                  31\n",
       "Singapore                  22\n",
       "Indonesia                  18\n",
       "Sweden                     17\n",
       "China                      11\n",
       "United Arab Emirates        6\n",
       "Kenya                       5\n",
       "Hong Kong                   5\n",
       "Nigeria                     5\n",
       "Estonia                     4\n",
       "Netherlands                 4\n",
       "Denmark                     4\n",
       "Colombia                    3\n",
       "Seychelles                  3\n",
       "Norway                      3\n",
       "Pakistan                    3\n",
       "Luxembourg                  3\n",
       "Ireland                     3\n",
       "Malaysia                    3\n",
       "Vietnam                     3\n",
       "Austria                     2\n",
       "Mexico                      2\n",
       "Portugal                    2\n",
       "Romania                     2\n",
       "New Zealand                 2\n",
       "Argentina                   2\n",
       "Egypt                       1\n",
       "Greece                      1\n",
       "Czech Republic              1\n",
       "South Africa                1\n",
       "Spain                       1\n",
       "Switzerland                 1\n",
       "France                      1\n",
       "Bulgaria                    1\n",
       "Uruguay                     1\n",
       "Russia                      1\n",
       "Turkey                      1\n",
       "Bahrain                     1\n",
       "Thailand                    1\n",
       "Peru                        1\n",
       "Finland                     1\n",
       "Poland                      1\n",
       "Belgium                     1\n",
       "Senegal                     1\n",
       "Chile                       1\n",
       "Lithuania                   1\n",
       "Hungary                     1\n",
       "Myanmar                     1"
      ]
     },
     "execution_count": 26,
     "metadata": {},
     "output_type": "execute_result"
    }
   ],
   "source": [
    "df['country'].value_counts().reset_index().set_index('index')"
   ]
  },
  {
   "cell_type": "markdown",
   "id": "d6e39902",
   "metadata": {
    "papermill": {
     "duration": 0.013215,
     "end_time": "2022-11-23T18:39:30.087793",
     "exception": false,
     "start_time": "2022-11-23T18:39:30.074578",
     "status": "completed"
    },
    "tags": []
   },
   "source": [
    "### Thank you for taking the time to read this notebook; please upvote and provide feedback."
   ]
  },
  {
   "cell_type": "code",
   "execution_count": null,
   "id": "62bc5d0d",
   "metadata": {
    "papermill": {
     "duration": 0.013711,
     "end_time": "2022-11-23T18:39:30.116340",
     "exception": false,
     "start_time": "2022-11-23T18:39:30.102629",
     "status": "completed"
    },
    "tags": []
   },
   "outputs": [],
   "source": []
  }
 ],
 "metadata": {
  "kernelspec": {
   "display_name": "Python 3",
   "language": "python",
   "name": "python3"
  },
  "language_info": {
   "codemirror_mode": {
    "name": "ipython",
    "version": 3
   },
   "file_extension": ".py",
   "mimetype": "text/x-python",
   "name": "python",
   "nbconvert_exporter": "python",
   "pygments_lexer": "ipython3",
   "version": "3.7.12"
  },
  "papermill": {
   "default_parameters": {},
   "duration": 14.067526,
   "end_time": "2022-11-23T18:39:30.954000",
   "environment_variables": {},
   "exception": null,
   "input_path": "__notebook__.ipynb",
   "output_path": "__notebook__.ipynb",
   "parameters": {},
   "start_time": "2022-11-23T18:39:16.886474",
   "version": "2.3.4"
  }
 },
 "nbformat": 4,
 "nbformat_minor": 5
}
